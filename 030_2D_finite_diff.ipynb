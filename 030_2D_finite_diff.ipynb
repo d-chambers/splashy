{
 "cells": [
  {
   "cell_type": "code",
   "execution_count": null,
   "id": "7ad48649-3264-4941-b76d-9671f4091a74",
   "metadata": {},
   "outputs": [],
   "source": [
    "# hide\n",
    "from nbdev.showdoc import *"
   ]
  },
  {
   "cell_type": "markdown",
   "id": "e1032311-d04c-4528-b96c-b08fb8bc313d",
   "metadata": {},
   "source": []
  },
  {
   "cell_type": "code",
   "execution_count": null,
   "id": "3589ba4e-f047-4231-a63d-0ae1c8bd2404",
   "metadata": {},
   "outputs": [],
   "source": [
    "import numpy as np\n",
    "import matplotlib.pyplot as plt\n",
    "from splashy.finite_diff import get_stencil, apply_stencil"
   ]
  },
  {
   "cell_type": "markdown",
   "id": "2fc96cfb-d80c-4cde-ba38-1ddc23e80f3a",
   "metadata": {},
   "source": [
    "# Variable Definitions"
   ]
  },
  {
   "cell_type": "code",
   "execution_count": null,
   "id": "a52ba787-023f-4e4d-99a8-cacc0e661903",
   "metadata": {},
   "outputs": [],
   "source": [
    "nx = 300  # grid points in x direction\n",
    "nz = 300  # grid points in z direction\n",
    "nt = 1000  # number of time steps\n",
    "\n",
    "dx = dz = 10.0  # grid spacing\n",
    "dt = 0.001  # temporal spacing\n",
    "\n",
    "c_0 = 3500  # background velocity (m/s)\n",
    "f_0 = 150  # dominant freq. of source-time function\n",
    "t_0 = 0.01  # start time of source\n",
    "\n",
    "\n",
    "# assert CFL criteria is met\n",
    "cfl = c_0 * (dt / dx)\n",
    "cfl_limit =  1 / np.sqrt(2)\n",
    "assert cfl < cfl_limit"
   ]
  },
  {
   "cell_type": "markdown",
   "id": "2892cd87-8fa3-471f-b743-6b22bec0151c",
   "metadata": {},
   "source": [
    "# Init arrays\n"
   ]
  },
  {
   "cell_type": "code",
   "execution_count": null,
   "id": "5f0013fd-1fac-4e3c-aa83-d1ad1be4621d",
   "metadata": {},
   "outputs": [],
   "source": [
    "space = np.zeros((nx, nz))\n",
    "time = np.arange(0, nt * dt, step=dt)\n",
    "\n",
    "source_time = "
   ]
  },
  {
   "cell_type": "code",
   "execution_count": null,
   "id": "c8a2a083-2875-4f39-bf37-581697d5a1d0",
   "metadata": {},
   "outputs": [],
   "source": []
  }
 ],
 "metadata": {
  "kernelspec": {
   "display_name": "Python 3",
   "language": "python",
   "name": "python3"
  }
 },
 "nbformat": 4,
 "nbformat_minor": 5
}
