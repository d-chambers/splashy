{
 "cells": [
  {
   "cell_type": "code",
   "execution_count": null,
   "id": "7c7edd7d-e80b-4f5c-82a2-6bdabfe6d54e",
   "metadata": {},
   "outputs": [],
   "source": [
    "#hide\n",
    "from nbdev.showdoc import *\n",
    "from splashy.finite_diff import get_stencil, apply_stencil\n",
    "import matplotlib\n",
    "matplotlib.use(\"nbagg\")"
   ]
  },
  {
   "cell_type": "code",
   "execution_count": null,
   "id": "3a8f7fa9-1bf1-42d0-81be-6347dacef039",
   "metadata": {},
   "outputs": [],
   "source": [
    "%matplotlib widget"
   ]
  },
  {
   "cell_type": "code",
   "execution_count": null,
   "id": "790331cd-a226-4d85-b8d8-e4b701a65b76",
   "metadata": {},
   "outputs": [],
   "source": [
    "import numpy as np\n",
    "import matplotlib.pyplot as plt"
   ]
  },
  {
   "cell_type": "markdown",
   "id": "7baec50b-134f-4df9-9475-8f588149546b",
   "metadata": {},
   "source": [
    "## Problem definition"
   ]
  },
  {
   "cell_type": "code",
   "execution_count": null,
   "id": "2b2889dc-9282-4531-9abb-98fd72f03ad0",
   "metadata": {},
   "outputs": [],
   "source": [
    "# define problem\n",
    "\n",
    "f_0 = 10  # center freq in hertz for source time func\n",
    "\n",
    "x_max = 1_000  # length\n",
    "x_min = -1_000\n",
    "dx = .1  # spatial resolution\n",
    "\n",
    "t_max = 10  # max time \n",
    "t_0 = 4 / f_0\n",
    "dt = 0.00025  # time steps\n",
    "\n",
    "velocity = 343  # velocity, m/s\n",
    "\n",
    "space = np.arange(x_min, x_max, step=dx)\n",
    "time = np.arange(0, t_max, step=dt)\n",
    "\n",
    "output = np.zeros((len(time), len(space)))"
   ]
  },
  {
   "cell_type": "code",
   "execution_count": null,
   "id": "ec7a377a-94f8-4f1f-9293-e2caf7be2f7b",
   "metadata": {},
   "outputs": [],
   "source": [
    "assert (dx / dt ) > velocity, 'solution doesnt meet CFL criteron'"
   ]
  },
  {
   "cell_type": "markdown",
   "id": "ff1ac417-ee42-4f0f-86f3-260937979eff",
   "metadata": {},
   "source": [
    "## Source Time function\n",
    "\n",
    "First we define the source time function to use in the simulation.\n",
    "\n",
    "Apparently the derivative of a gausian is common, so we will use that.\n",
    "\n",
    "$$\n",
    "f(t) = -8f_0(t-t_0)*exp(-16f_0^2 (t - t_0)^2)\n",
    "$$\n"
   ]
  },
  {
   "cell_type": "code",
   "execution_count": null,
   "id": "43e3cc20-533e-4746-a0e5-1cd240109acc",
   "metadata": {},
   "outputs": [],
   "source": [
    "# source time function\n",
    "def get_source_time(time, f0, t0=0):\n",
    "    \"\"\"Given a time vector return the source time function.\"\"\"\n",
    "    c1 = -8 * f0 * (time - t0)\n",
    "    c2 = -16 * f0 **2\n",
    "    c3 = (time - t0) ** 2\n",
    "    return c1 * np.exp(c2 * c3)\n"
   ]
  },
  {
   "cell_type": "code",
   "execution_count": null,
   "id": "8fd9d800-5ad0-4d42-bbbc-b1da36456411",
   "metadata": {},
   "outputs": [],
   "source": [
    "source_time = get_source_time(time, f_0, t_0)\n",
    "source_spec = np.fft.rfft(source_time)\n",
    "source_freq = np.fft.rfftfreq(len(time), d=dt)"
   ]
  },
  {
   "cell_type": "code",
   "execution_count": null,
   "id": "9c6974d1-9c69-4d29-8be1-dc03be17587e",
   "metadata": {},
   "outputs": [
    {
     "data": {
      "application/vnd.jupyter.widget-view+json": {
       "model_id": "fab656a0a11c49c8ae52edbbfa8934c5",
       "version_major": 2,
       "version_minor": 0
      },
      "text/plain": [
       "Canvas(toolbar=Toolbar(toolitems=[('Home', 'Reset original view', 'home', 'home'), ('Back', 'Back to previous …"
      ]
     },
     "metadata": {},
     "output_type": "display_data"
    }
   ],
   "source": [
    "fig, (ax1, ax2) = plt.subplots(1, 2)\n",
    "\n",
    "ax1.plot(time, source_time)\n",
    "ax1.set_xlabel('time (seconds)')\n",
    "ax1.set_ylabel('source output')\n",
    "ax1.set_xlim(t_0 - .1, t_0 + .1)\n",
    "\n",
    "ax2.plot(source_freq, np.abs(source_spec))\n",
    "ax2.set_xlabel('frequency')\n",
    "ax2.set_xlim(-10, 100)\n",
    "plt.show()"
   ]
  },
  {
   "cell_type": "markdown",
   "id": "d220fa48-324e-4fc6-99ec-188b2cf4b552",
   "metadata": {},
   "source": [
    "## Numerical Solution (Finite Differences Method)\n",
    "\n",
    "The acoustic wave equation in 1D with constant density \n",
    "\n",
    "$$\n",
    "\\partial^2_t p(x,t) \\ = \\ c(x)^2 \\partial_x^2 p(x,t) + s(x,t)\n",
    "$$\n",
    "\n",
    "with pressure $p$, acoustic velocity $c$, and source term $s$ contains two second derivatives that can be approximated with a difference formula such as\n",
    "\n",
    "$$\n",
    "\\partial^2_t p(x,t) \\ \\approx \\ \\frac{p(x,t+dt) - 2 p(x,t) + p(x,t-dt)}{dt^2} \n",
    "$$\n",
    "\n",
    "and equivalently for the space derivative. Injecting these approximations into the wave equation allows us to formulate the pressure p(x) for the time step $t+dt$ (the future) as a function of the pressure at time $t$ (now) and $t-dt$ (the past). This is called an explicit scheme allowing the $extrapolation$ of the space-dependent field into the future only looking at the nearest neighbourhood.\n",
    "\n",
    "We replace the time-dependent (upper index time, lower indices space) part by\n",
    "\n",
    "$$\n",
    " \\frac{p_{i}^{n+1} - 2 p_{i}^n + p_{i}^{n-1}}{\\mathrm{d}t^2} \\ = \\ c^2 ( \\partial_x^2 p) \\ + s_{i}^n\n",
    "$$\n",
    "\n",
    "solving for $p_{i}^{n+1}$.\n",
    "\n",
    "The extrapolation scheme is\n",
    "\n",
    "$$\n",
    "p_{i}^{n+1} \\ = \\ c_i^2 \\mathrm{d}t^2 \\left[ \\partial_x^2 p \\right]\n",
    "+ 2p_{i}^n - p_{i}^{n-1} + \\mathrm{d}t^2 s_{i}^n\n",
    "$$\n",
    "\n",
    "The  space derivatives are determined by \n",
    "\n",
    "$$\n",
    "\\partial_x^2 p \\ = \\ \\frac{p_{i+1}^{n} - 2 p_{i}^n + p_{i-1}^{n}}{\\mathrm{d}x^2}\n",
    "$$"
   ]
  },
  {
   "cell_type": "code",
   "execution_count": null,
   "id": "b457cc53-7340-4c47-a4df-36d17a1a09ed",
   "metadata": {},
   "outputs": [],
   "source": [
    "d2x_stencil = get_stencil(2, 3, dx=dx)\n",
    "space_delta = np.zeros_like(space)\n",
    "delta_ind = np.argmin(np.abs(space))\n",
    "space_delta[delta_ind] = 1 / dx\n"
   ]
  },
  {
   "cell_type": "code",
   "execution_count": null,
   "id": "02610c47-9d8f-4326-aa9c-5e88e2556eac",
   "metadata": {},
   "outputs": [],
   "source": [
    "# iterate each timestep in output\n",
    "for n in range(1, len(output) -1):\n",
    "    # get current, past, and future pressure state (sliced by time)\n",
    "    current_output = output[n]\n",
    "    previous_output = output[n - 1]\n",
    "    # apply stencil to get second spactial derivative\n",
    "    \n",
    "    d2x = apply_stencil(current_output, d2x_stencil)\n",
    "    if not np.isfinite(d2x).all():\n",
    "        break\n",
    "    \n",
    "    \n",
    "    pde = velocity ** 2 * dt ** 2 * d2x + 2 * current_output - previous_output\n",
    "    source = space_delta * source_time[n]\n",
    "    future_ouput = pde  + source \n",
    "    future_ouput[:2] = 0\n",
    "    future_ouput[-2:] = 0\n",
    "    if not np.isfinite(future_ouput).all():\n",
    "        break\n",
    "    output[n + 1] = future_ouput"
   ]
  },
  {
   "cell_type": "markdown",
   "id": "68304ddb-a62f-4f44-b64a-b1b677b17856",
   "metadata": {},
   "source": [
    "# Plot results\n",
    "Now we plot the results of the simulation in a simple animation."
   ]
  },
  {
   "cell_type": "code",
   "execution_count": null,
   "id": "7e94712b-3af3-419c-8bba-916a1ee733dc",
   "metadata": {},
   "outputs": [
    {
     "data": {
      "application/vnd.jupyter.widget-view+json": {
       "model_id": "909afb090fd147b784641c33eddf669f",
       "version_major": 2,
       "version_minor": 0
      },
      "text/plain": [
       "Canvas(toolbar=Toolbar(toolitems=[('Home', 'Reset original view', 'home', 'home'), ('Back', 'Back to previous …"
      ]
     },
     "metadata": {},
     "output_type": "display_data"
    }
   ],
   "source": [
    "# setup figure\n",
    "fig = plt.figure(figsize=(10, 6))\n",
    "ax = fig.add_subplot(1,1,1)\n",
    "ax.set_xlim(x_min, x_max)\n",
    "ax.set_ylim(-1, 1)\n",
    "ax.set_xlabel('X (m)')\n",
    "ax.set_ylabel('Pressure Amplitude')\n",
    "ax.set_title('Time (0)')\n",
    "ax.axvline(0, color='red')\n",
    "up31, = ax.plot(space, output[0])\n",
    "plt.show()"
   ]
  },
  {
   "cell_type": "code",
   "execution_count": null,
   "id": "6f7ae762-78cd-4b03-86c1-7ff001471a4f",
   "metadata": {},
   "outputs": [],
   "source": [
    "time_inds = np.arange(0, len(time), step=150)\n",
    "# start_ind = np.where(time==t_0)[0]\n",
    "# time_inds = np.arange(start_ind, start_ind + 500, )"
   ]
  },
  {
   "cell_type": "code",
   "execution_count": null,
   "id": "e9944788-5619-45bb-85fd-4ebbd050be90",
   "metadata": {},
   "outputs": [
    {
     "name": "stderr",
     "output_type": "stream",
     "text": [
      "/home/derrick/anaconda3/envs/waves/lib/python3.7/site-packages/ipykernel_launcher.py:6: UserWarning: Attempting to set identical bottom == top == 0.0 results in singular transformations; automatically expanding.\n",
      "  \n"
     ]
    }
   ],
   "source": [
    "for n in time_inds:\n",
    "    current_output = output[n]\n",
    "    current_time = time[n]\n",
    "    up31.set_ydata(current_output)\n",
    "    ax.set_title(f'Time ({current_time:.2f})')\n",
    "    ax.set_ylim(current_output.min(), current_output.max())\n",
    "    plt.gcf().canvas.draw()\n"
   ]
  },
  {
   "cell_type": "code",
   "execution_count": null,
   "id": "08827f52-2981-4720-bad5-df574f9b0f5f",
   "metadata": {},
   "outputs": [],
   "source": []
  }
 ],
 "metadata": {
  "kernelspec": {
   "display_name": "Python 3",
   "language": "python",
   "name": "python3"
  }
 },
 "nbformat": 4,
 "nbformat_minor": 5
}
